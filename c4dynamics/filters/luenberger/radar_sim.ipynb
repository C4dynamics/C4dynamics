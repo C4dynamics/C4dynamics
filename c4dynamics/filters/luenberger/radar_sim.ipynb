{
 "cells": [
  {
   "cell_type": "markdown",
   "metadata": {},
   "source": [
    "run luenberger estimator"
   ]
  },
  {
   "cell_type": "code",
   "execution_count": null,
   "metadata": {},
   "outputs": [],
   "source": [
    "import sys, os\n",
    "import numpy as np\n",
    "\n",
    "sys.path.append('../')\n",
    "\n",
    "import c4dynamics as c4d\n",
    "\n",
    "import m_target\n",
    "\n",
    "import m_radar\n",
    "import m_filtertype\n",
    "\n",
    "# initial conditions \n",
    "z0 = 100000 * c4d.ft2m\n",
    "v0 = -6000 * c4d.ft2m\n",
    "beta = 500 * c4d.lbft2tokgm2\n",
    "\n",
    "rdr = c_radar(np.array([z0 + 25 * c4d.ft2m, v0 - 150 * c4d.ft2m, beta + 300 * c4d.lbft2tokgm2])\n",
    "              , m_filtertype.filtertype.luenberger)\n",
    "\n",
    "\n",
    "print('is observable:')\n",
    "print(rdr.filter.isobservable())\n",
    "print('desired eigen values:')\n",
    "print(rdr.filter.eig())\n",
    "print('desired eigen values:')\n",
    "print(np.array([-4, -4, -4]))\n",
    "\n",
    "rdr.filter.setest(np.array([-4, -4, -4]))\n",
    "\n",
    "\n"
   ]
  },
  {
   "cell_type": "code",
   "execution_count": null,
   "metadata": {},
   "outputs": [],
   "source": [
    "def nonlinear(x, t):\n",
    "    dx = np.zeros(len(x))\n",
    "    dx[0] = x[1]\n",
    "    dx[1] = .0034 * np.exp(-x[0] / 22000) * x[1]**2 / 2 / x[2] - c4d.g\n",
    "    dx[2] = 0\n",
    "    return dx\n",
    "\n",
    "def nonlinear_simp(x, t):\n",
    "    dx = np.zeros(len(x))\n",
    "    dx[0] = x[1]\n",
    "    dx[1] = .0034 * x[1]**2 / 2 / x[2] - c4d.g\n",
    "    dx[2] = 0\n",
    "    return dx\n",
    "\n",
    "def linear(x, t, b0): # linearized wrt the simplified nonlinear system. namely where the density is constant over all the altitudes. \n",
    "    dx = np.zeros(len(x))\n",
    "    dx[0] = x[1]\n",
    "    dx[1] = -np.sqrt(2 * 0.0034 * c4d.g / b0) * x[1] - c4d.g / b0 * x[2]\n",
    "    dx[2] = 0\n",
    "    return dx\n"
   ]
  },
  {
   "cell_type": "code",
   "execution_count": 23,
   "metadata": {},
   "outputs": [],
   "source": [
    "from scipy.integrate import solve_ivp, odeint\n",
    "\n",
    "# initial conditions \n",
    "z0 = 100000 * c4d.ft2m\n",
    "v0 = -6000 * c4d.ft2m\n",
    "a0 = 0\n",
    "beta = 500 * c4d.lbft2tokgm2\n",
    "\n",
    "# sim parameters \n",
    "dt = 1e-3\n",
    "tf = 30 \n",
    "t = np.arange(0, tf, dt)\n",
    "\n",
    "  \n",
    "''' simulate nonlinear system '''\n",
    "y_nln = odeint(nonlinear, [z0, v0, beta], t) \n",
    "y_nlnsimp = odeint(nonlinear_simp, [z0, v0, beta], t) \n",
    "y_lin = odeint(linear, [z0, v0, beta], t, args = (beta, )) \n"
   ]
  },
  {
   "cell_type": "code",
   "execution_count": null,
   "metadata": {},
   "outputs": [],
   "source": []
  },
  {
   "cell_type": "code",
   "execution_count": null,
   "metadata": {},
   "outputs": [],
   "source": [
    "plt.plot(t, y_nlnsimp[:, 0], label = 'simplified nonlinear')\n",
    "plt.plot(t, y_lin[:, 0], label = 'linear')\n",
    "plt.legend()\n",
    "plt.title('Altitude')\n",
    "plt.show()\n",
    "\n",
    "plt.plot(t, y_nlnsimp[:, 1], label = 'simplified nonlinear')\n",
    "plt.plot(t, y_lin[:, 1], label = 'linear')\n",
    "plt.legend()\n",
    "plt.title('Velocity')\n",
    "plt.show()\n",
    "\n",
    "plt.plot(t, y_nlnsimp[:, 2], label = 'simplified nonlinear')\n",
    "plt.plot(t, y_lin[:, 2], label = 'linear')\n",
    "plt.legend()\n",
    "plt.title(r'$\\beta$')\n",
    "plt.show()\n"
   ]
  },
  {
   "cell_type": "code",
   "execution_count": null,
   "metadata": {},
   "outputs": [],
   "source": [
    "plt.plot(t, y_nln[:, 0], label = 'nonlinear')\n",
    "plt.plot(t, y_lin[:, 0], label = 'linear')\n",
    "plt.legend()\n",
    "plt.title('Altitude')\n",
    "plt.show()\n",
    "\n",
    "plt.plot(t, y_nln[:, 1], label = 'nonlinear')\n",
    "plt.plot(t, y_lin[:, 1], label = 'linear')\n",
    "plt.legend()\n",
    "plt.title('Velocity')\n",
    "plt.show()\n",
    "\n",
    "plt.plot(t, y_nln[:, 2], label = 'nonlinear')\n",
    "plt.plot(t, y_lin[:, 2], label = 'linear')\n",
    "plt.legend()\n",
    "plt.title(r'$\\beta$')\n",
    "plt.show()\n"
   ]
  },
  {
   "cell_type": "code",
   "execution_count": null,
   "metadata": {},
   "outputs": [],
   "source": [
    "from scipy.integrate import solve_ivp, odeint\n",
    "\n",
    "\n",
    "\n",
    "# initial conditions \n",
    "z0 = 100000 * c4d.ft2m\n",
    "v0 = -6000 * c4d.ft2m\n",
    "a0 = 0\n",
    "beta = 500 * c4d.lbft2tokgm2\n",
    "\n",
    "# sim parameters \n",
    "dt = 1e-3\n",
    "tf = 30 \n",
    "\n",
    "# objects definition \n",
    "tgt = target([z0, v0, a0], beta)\n",
    "rdr = radar([z0 + 25 * c4d.ft2m, v0 - 150 * c4d.ft2m, beta + 300 * c4d.lbft2tokgm2])\n",
    "\n",
    "# main loop \n",
    "for t in np.arange(0, tf, dt):\n",
    "    \n",
    "    ''' simulate target motion '''\n",
    "    y = odeint(target.deriv, [tgt.z, tgt.vz], t + [0, dt], args = (tgt, )) \n",
    "    # if y[-1, 0] <= 0:\n",
    "    #     break\n",
    "    tgt.z, tgt.vz = y[-1, :]\n",
    "    tgt.data = np.concatenate((tgt.data, np.array([[tgt.z, tgt.vz, 0, 0]])), axis = 0)\n",
    "    \n",
    "    ''' take radar measure '''\n",
    "    tgt_dist = tgt.z + rdr.vk * np.random.randn(1) #  0.86217 # \n",
    "    tgt_measure = rdr.measure(t, tgt_dist)\n",
    "\n",
    "# zmask = tgt.data[:, 0] < 100000\n",
    "\n",
    "\n",
    "dy = target.deriv(tgt.data, 0, tgt) \n",
    "tgt.data[:, 2] = np.asarray(dy).T[:, 0]\n",
    "tgt.data[:, 3] = np.ones(len(tgt.data)) * beta"
   ]
  }
 ],
 "metadata": {
  "kernelspec": {
   "display_name": "Python 3.7.4 64-bit ('3.7.4')",
   "language": "python",
   "name": "python3"
  },
  "language_info": {
   "codemirror_mode": {
    "name": "ipython",
    "version": 3
   },
   "file_extension": ".py",
   "mimetype": "text/x-python",
   "name": "python",
   "nbconvert_exporter": "python",
   "pygments_lexer": "ipython3",
   "version": "3.7.4 (tags/v3.7.4:e09359112e, Jul  8 2019, 20:34:20) [MSC v.1916 64 bit (AMD64)]"
  },
  "vscode": {
   "interpreter": {
    "hash": "ad23a8c0bfcbcec1cee063205f6ad485cbd775379406a4bec684e1a72e0075d1"
   }
  }
 },
 "nbformat": 4,
 "nbformat_minor": 1
}
