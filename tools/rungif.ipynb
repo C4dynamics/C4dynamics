{
 "cells": [
  {
   "cell_type": "code",
   "execution_count": 2,
   "metadata": {},
   "outputs": [],
   "source": [
    "import sys\n",
    "sys.path\n",
    "sys.path.append('../')"
   ]
  },
  {
   "cell_type": "code",
   "execution_count": null,
   "metadata": {},
   "outputs": [],
   "source": [
    "import importlib\n",
    "import gen_gif\n",
    "\n",
    "from IPython.display import Image\n",
    "\n",
    "# fol = 'fig'\n",
    "# %mkdir -p $fol\n",
    "# %mkdir $fol\n",
    "gen_gif.gen_gif(os.getcwd() + '/../missiles/dontsync')\n",
    "\n",
    "Image(filename = '_img_movie.gif') "
   ]
  },
  {
   "cell_type": "code",
   "execution_count": null,
   "metadata": {},
   "outputs": [],
   "source": []
  }
 ],
 "metadata": {
  "kernelspec": {
   "display_name": "Python 3.7.4 64-bit ('3.7.4')",
   "language": "python",
   "name": "python3"
  },
  "language_info": {
   "codemirror_mode": {
    "name": "ipython",
    "version": 3
   },
   "file_extension": ".py",
   "mimetype": "text/x-python",
   "name": "python",
   "nbconvert_exporter": "python",
   "pygments_lexer": "ipython3",
   "version": "3.7.4 (tags/v3.7.4:e09359112e, Jul  8 2019, 20:34:20) [MSC v.1916 64 bit (AMD64)]"
  },
  "orig_nbformat": 4,
  "vscode": {
   "interpreter": {
    "hash": "ad23a8c0bfcbcec1cee063205f6ad485cbd775379406a4bec684e1a72e0075d1"
   }
  }
 },
 "nbformat": 4,
 "nbformat_minor": 2
}
