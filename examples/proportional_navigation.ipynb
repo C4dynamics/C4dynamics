{
 "cells": [
  {
   "attachments": {},
   "cell_type": "markdown",
   "metadata": {},
   "source": [
    "this quickstart file is a missile-target pursit built with the C4dynamics framework"
   ]
  },
  {
   "cell_type": "code",
   "execution_count": 11,
   "metadata": {},
   "outputs": [],
   "source": [
    "# some setup\n",
    "\n",
    "import numpy as np\n",
    "from scipy.integrate import solve_ivp # odeint,\n",
    "# import time\n",
    "\n",
    "from matplotlib import pyplot as plt\n",
    "plt.rcParams['figure.figsize'] = (5.0, 4.0) # set default size of plots\n",
    "plt.rcParams[\"font.family\"] = \"Times New Roman\"\n",
    "plt.rcParams[\"font.size\"] = 18\n",
    "\n",
    "import sys, os\n",
    "sys.path.append(os.path.join(os.getcwd(), os.pardir))\n",
    "\n",
    "import c4dynamics as c4d"
   ]
  },
  {
   "cell_type": "code",
   "execution_count": 12,
   "metadata": {},
   "outputs": [],
   "source": [
    "class proportional_navigation():    \n",
    "\n",
    "    flyby = False\n",
    "    rr = False\n",
    "         \n",
    "    def __init__(obj, N, ts):\n",
    "        obj.N = N\n",
    "        obj.ts = ts\n",
    "\n",
    "    def PN(obj, v, lambda_dot):\n",
    "        return obj.N * v * lambda_dot\n",
    "    \n",
    "    def tgo():\n",
    "        # TBD \n",
    "        pass \n",
    "    \n",
    "    def set_flyby(obj, rnew, r):\n",
    "        \n",
    "        rdot = (np.abs(rnew) - np.abs(r)) / obj.ts\n",
    "        \n",
    "        if obj.rr == False:\n",
    "            if rdot < 0:\n",
    "                obj.rr = True\n",
    "        else:\n",
    "            if rdot >= 0:\n",
    "                obj.flyby = True           "
   ]
  },
  {
   "cell_type": "code",
   "execution_count": 13,
   "metadata": {},
   "outputs": [],
   "source": [
    "# user inputs\n",
    "\n",
    "rng0 = 1000\n",
    "derr = 15 * np.pi / 180\n",
    "theta0 = 15 * np.pi / 180\n",
    "ts = .005\n",
    "vT = 200\n",
    "aT = 0\n",
    "vM = 400\n",
    "aMmax = 30\n",
    "Ncmd = 3"
   ]
  },
  {
   "cell_type": "code",
   "execution_count": 14,
   "metadata": {},
   "outputs": [],
   "source": [
    "# define objects \n",
    "\n",
    "tgt = c4d.datapoint(x = rng0)\n",
    "msl = c4d.datapoint()\n",
    "\n",
    "skr = c4d.seekers.radar(nstd = 0 * c4d.d2r)\n",
    "pn  = proportional_navigation(Ncmd, ts)"
   ]
  },
  {
   "cell_type": "code",
   "execution_count": 15,
   "metadata": {},
   "outputs": [],
   "source": [
    "# initial conditions \n",
    "\n",
    "r = msl.dist(tgt)\n",
    "lam = np.arcsin((tgt.y0 - msl.y0) / r)\n",
    "tgt.theta = theta0\n",
    "tgt.gamma = lam + tgt.theta\n",
    "\n",
    "# def v_calc(obj):\n",
    "#     return np.sqrt(obj.vx**2 + obj.vy**2 + obj.vz**2)\n",
    "\n",
    "tgt.v = vT # v_calc(tgt)\n",
    "msl.v = vM #  v_calc(msl)\n",
    "\n",
    "del_correct = np.arcsin(tgt.v / msl.v * np.sin(tgt.gamma - lam))\n",
    "msl.delta = del_correct + derr \n",
    "\n",
    "msl.gamma = lam + msl.delta\n",
    "omega = (tgt.v * np.sin(tgt.theta) - msl.v * np.sin(msl.delta)) / r\n",
    "msl.a = 0\n",
    "tgt.a = aT\n",
    "\n",
    "vc = -(tgt.v * np.cos(tgt.theta) - msl.v * np.cos(msl.delta))\n",
    "msl.ac = Ncmd * msl.v * omega\n",
    "if np.abs(msl.ac / 9.8) >= aMmax: msl.ac = np.sign(msl.ac) * aMmax * 9.8\n",
    "\n",
    "msl.tau = 0.01\n",
    "\n",
    "t = 0\n",
    "\n",
    "# linear model\n",
    "A = np.array([[msl.v - tgt.v, tgt.v, -msl.v], [0, 0, 0], [0, 0, 0]])\n",
    "c = np.array([1, 0, 0])\n",
    "lpf = c4d.filters.luenberger(A, c)\n",
    "lpf.setest([200, 100, 100])\n",
    "# xv = \n",
    "\n",
    "x = np.array([r, lam, omega, tgt.gamma, msl.gamma, msl.a, tgt.x, tgt.y, msl.x, msl.y])\n",
    "msl.store(0)\n",
    "tgt.store(0)\n",
    "\n",
    "eps = np.zeros(2)\n",
    "w_data = [] # time, omega true, omega calculated "
   ]
  },
  {
   "cell_type": "code",
   "execution_count": 16,
   "metadata": {},
   "outputs": [],
   "source": [
    "# system equations\n",
    "\n",
    "def odx(t, x, tgt, msl): # function. (vs bound method)\n",
    "    \n",
    "    dx = np.zeros(x.shape)\n",
    "\n",
    "    rho = x[0]\n",
    "    # l   = x[1]\n",
    "    w   = x[2]\n",
    "    # gT  = x[3]\n",
    "    # gM  = x[4]\n",
    "    # aM  = x[5]\n",
    "\n",
    "    dx[0] = tgt.v * np.cos(tgt.theta) - msl.v * np.cos(msl.delta)\n",
    "    dx[1] = w\n",
    "\n",
    "    x1_s = np.max([np.abs(rho), 1]) * np.sign(rho)\n",
    "    dx[2] = -2 * (tgt.v * np.cos(tgt.theta) - msl.v * np.cos(msl.delta)) * w / x1_s + tgt.a * np.cos(tgt.theta) / x1_s - msl.a * np.cos(msl.delta) / x1_s\n",
    "\n",
    "    if tgt.v != 0:\n",
    "        dx[3] = tgt.a / tgt.v\n",
    "\n",
    "    dx[4] = msl.a / msl.v\n",
    "    dx[5] = -1 / msl.tau * msl.a + 1 / msl.tau * msl.ac \n",
    "    \n",
    "    dx[6] = tgt.v * np.cos(tgt.gamma)\n",
    "    dx[7] = tgt.v * np.sin(tgt.gamma)\n",
    "    dx[8] = msl.v * np.cos(msl.gamma)\n",
    "    dx[9] = msl.v * np.sin(msl.gamma)\n",
    "    \n",
    "    return dx\n",
    "    \n"
   ]
  },
  {
   "cell_type": "code",
   "execution_count": 17,
   "metadata": {},
   "outputs": [],
   "source": [
    "# run main loop \n",
    "\n",
    "while not pn.flyby:\n",
    "    \n",
    "    x = solve_ivp(odx, [t, t + ts], x, args = (tgt, msl)).y[:, -1]\n",
    "    lam = x[1]\n",
    "    w   = x[2]\n",
    "    tgt.gamma = x[3]\n",
    "    msl.gamma = x[4]\n",
    "    msl.a = x[5]\n",
    "    tgt.x = x[6]\n",
    "    tgt.y = x[7]\n",
    "    msl.x = x[8]\n",
    "    msl.y = x[9]\n",
    "    \n",
    "    tgt.theta = tgt.gamma - lam    \n",
    "    tgt.store(t)\n",
    "    \n",
    "    msl.delta = msl.gamma - msl.delta \n",
    "    \n",
    "    # PN \n",
    "    #   measure los angle \n",
    "    #   find lambda dot\n",
    "    #   filter noise\n",
    "    eps = np.roll(eps, 1)\n",
    "    eps[1] = skr.measure(lam)\n",
    "    lambda_dot = np.diff(eps) / ts\n",
    "    # xdot = lpf.Aest @ xv + \n",
    "    \n",
    "    # apply command\n",
    "    msl.ac = pn.PN(msl.v, lambda_dot)\n",
    "    if np.abs(msl.ac / 9.8) >= aMmax: msl.ac = np.sign(msl.ac) * aMmax * 9.8\n",
    "    \n",
    "    # \n",
    "    msl.store(t)\n",
    "    pn.set_flyby(x[0], r)\n",
    "    r= x[0]\n",
    "            \n",
    "    # w_data = np.vstack((w_data, np.array([t, w, lambda_dot]))).copy()\n",
    "    w_data.append([t, w, lambda_dot.item()])\n",
    "    t += ts\n",
    "\n",
    "# msl.curve('x')\n",
    "\n"
   ]
  },
  {
   "cell_type": "code",
   "execution_count": 18,
   "metadata": {},
   "outputs": [
    {
     "data": {
      "text/plain": [
       "<matplotlib.legend.Legend at 0x20635066f50>"
      ]
     },
     "execution_count": 18,
     "metadata": {},
     "output_type": "execute_result"
    },
    {
     "data": {
      "image/png": "[encoded data removed]",
      "text/plain": [
       "<Figure size 500x400 with 1 Axes>"
      ]
     },
     "metadata": {},
     "output_type": "display_data"
    },
    {
     "data": {
      "image/png": "[encoded data removed]",
      "text/plain": [
       "<Figure size 500x400 with 1 Axes>"
      ]
     },
     "metadata": {},
     "output_type": "display_data"
    }
   ],
   "source": [
    "# plot trajectories \n",
    "\n",
    "xm = msl.get_data('x')\n",
    "ym = msl.get_data('y')\n",
    "xT = tgt.get_data('x')\n",
    "yT = tgt.get_data('y')\n",
    "\n",
    "\n",
    "plt.figure() \n",
    "plt.plot(xm, ym, 'b', linewidth = 2)\n",
    "plt.plot(xT, yT, 'r', linewidth = 2)\n",
    "plt.title('Trajectories')\n",
    "ax = plt.gca()\n",
    "ax.legend(['missile', 'target'])\n",
    "# plt.show()\n",
    "\n",
    "# for i, w in enumerate(w_data):\n",
    "#     print(len(w))\n",
    "\n",
    "w_data = np.array(w_data)\n",
    "\n",
    "# omega \n",
    "plt.figure()\n",
    "plt.plot(w_data[1:, 0], w_data[1:, 1] * c4d.r2d, 'b', linewidth = 2)\n",
    "plt.plot(w_data[1:, 0], w_data[1:, 2] * c4d.r2d, 'r', linewidth = 1)\n",
    "plt.title('omega')\n",
    "ax = plt.gca()\n",
    "ax.legend(['true', 'measure'])\n",
    "# print(time.time() - tic)\n",
    "\n",
    "# plt.show() \n",
    "#   plt.close()\n",
    "#   plt.close('all')\n"
   ]
  }
 ],
 "metadata": {
  "kernelspec": {
   "display_name": "Python 3.10.6 64-bit",
   "language": "python",
   "name": "python3"
  },
  "language_info": {
   "codemirror_mode": {
    "name": "ipython",
    "version": 3
   },
   "file_extension": ".py",
   "mimetype": "text/x-python",
   "name": "python",
   "nbconvert_exporter": "python",
   "pygments_lexer": "ipython3",
   "version": "3.10.1"
  },
  "orig_nbformat": 4,
  "vscode": {
   "interpreter": {
    "hash": "31f2aee4e71d21fbe5cf8b01ff0e069b9275f58929596ceb00d14d90e3e16cd6"
   }
  }
 },
 "nbformat": 4,
 "nbformat_minor": 2
}
