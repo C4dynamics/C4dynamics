{
 "cells": [
  {
   "cell_type": "markdown",
   "metadata": {},
   "source": [
    "To download this notebook, click the download icon in the toolbar above and select the .ipynb format."
   ]
  },
  {
   "cell_type": "markdown",
   "metadata": {},
   "source": [
    "# Ballistic Coefficient Estimation with Extended Kalman Filter "
   ]
  },
  {
   "cell_type": "markdown",
   "metadata": {},
   "source": [
    "The following example appears in several sources. \n",
    "[ZP]_ provides a great deal of detail. Additional sources can be found in [SD]_. \n",
    "\n",
    "\n",
    "The problem is to estimate the ballistic coefficient of a target \n",
    "in a free fall where a noisy radar is tracking it.\n"
   ]
  },
  {
   "cell_type": "markdown",
   "metadata": {},
   "source": [
    "The mathematical background required for understanding the Extended Kalman Filter and the form of implementation using c4dynamics is found in [the introduction page to the filters module documentary](https://c4dynamics.github.io/C4dynamics/api/Filters.html#extended-kalman-filter-ekf). \n",
    "\n",
    "The `ekf` class of c4dynamics is found [here](https://c4dynamics.github.io/C4dynamics/api/filters.ekf.html#c4dynamics.filters.ekf.ekf). "
   ]
  },
  {
   "cell_type": "markdown",
   "metadata": {},
   "source": [
    "The program utilizes the following components of c4dynamics: \n",
    "\n",
    "\n",
    "| Object  | Module    | Description |\n",
    "|---------|-----------|-------------|\n",
    "| target  | [state](https://c4dynamics.github.io/C4dynamics/api/states.state.html) | The target is a state object of three variables (altitude, vertical velocity, ballistic coefficient) |\n",
    "| radar   | [radar](https://c4dynamics.github.io/C4dynamics/api/sensors.radar.html)   | Range detector \n",
    "| ekf     | [ekf](https://c4dynamics.github.io/C4dynamics/api/filters.ekf.html)     | Extended Kalman filter with three variables state (altitude, vertical velocity, ballistic coefficient) | \n",
    "| g_fts2     | [const](https://c4dynamics.github.io/C4dynamics/api/utils.const.html)     | Gravity constant in foot per seconds squared |\n",
    "| plotdefaults | [utils](https://c4dynamics.github.io/C4dynamics/api/generated/utils/c4dynamics.utils.plottools.plotdefaults.html) | Setting default properties on a matplotlib axis |\n",
    "\n"
   ]
  },
  {
   "cell_type": "markdown",
   "metadata": {},
   "source": [
    "The process equations are: \n",
    "\n",
    "\n",
    "$$\\dot{z} = v_z$$  \n",
    "$$\\dot{v}_z = {\\rho_0 \\cdot e^{-z / k} \\cdot v_z^2 \\cdot g \\over 2 \\cdot \\beta} - g$$  \n",
    "$$\\dot{\\beta} = \\omega_{\\beta}$$  \n",
    "\n",
    "With output measure: \n",
    "\n",
    "$$y = z + \\nu_k$$\n",
    "\n",
    "\n",
    "Where:\n",
    "- $z$ is the target altitude ($ft$)\n",
    "- $v_z$ is the target vertical velocity ($ft/s$)\n",
    "- $\\beta$ is the target ballistic coefficient ($lb/ft^2$)\n",
    "- $y$ is the system measure \n",
    "- $\\rho_{0} = 0.0034$\n",
    "- $k = 22,000$ \n",
    "- $g = 32.2 ft/s^2$\n",
    "- $\\omega_{\\beta} \\sim (0, 300)$\n",
    "- $\\nu_k \\sim (0, 500)$ "
   ]
  },
  {
   "cell_type": "markdown",
   "metadata": {},
   "source": [
    "These equations represent the motion of the target in a free fall in the presence of air resistance which modifies the aerodynamic drag coefficient of the target.  \n",
    "The first variable, z, is simply the target altitude. It's derivative is the vertical velocity $v_z$.  \n",
    "The derivative of $v_z$ is the vertical acceleration given by the difference between the acceleration due to gravity and aerodynamic force divided by the target mass. "
   ]
  },
  {
   "cell_type": "markdown",
   "metadata": {},
   "source": [
    "\n",
    "Let:\n"
   ]
  },
  {
   "cell_type": "markdown",
   "metadata": {},
   "source": [
    "\n",
    "$$\n",
    "  \\rho = \\rho_0 \\cdot e^{-z / k}\n",
    "$$\n"
   ]
  },
  {
   "cell_type": "markdown",
   "metadata": {},
   "source": [
    "\n",
    "The lineariztion of the process matrix for the `predict` step:\n"
   ]
  },
  {
   "cell_type": "markdown",
   "metadata": {},
   "source": [
    "\n",
    "$$\n",
    "  M = \\begin{bmatrix}\n",
    "        0 & 1 & 0 \\\\\n",
    "          -\\rho \\cdot g \\cdot v_z^2 / (44000 \\cdot \\beta) \n",
    "          & \\rho \\cdot g \\cdot v_z / \\beta\n",
    "          & -\\rho \\cdot g \\cdot v_z^2 \\cdot / (2 \\cdot \\beta^2) \\\\ \n",
    "            0 & 0 & 0\n",
    "      \\end{bmatrix}  \n",
    "$$\n",
    "  \n"
   ]
  },
  {
   "cell_type": "markdown",
   "metadata": {},
   "source": [
    "The measurement is a direct sample of the altitude of the target\n",
    "so these equations are already a linear function of the state and represented by the matrix `H`: "
   ]
  },
  {
   "cell_type": "markdown",
   "metadata": {},
   "source": [
    "\n",
    "$$\n",
    "  H = \\begin{bmatrix}\n",
    "        1 & 0 & 0 \n",
    "      \\end{bmatrix}  \n",
    "$$              \n"
   ]
  },
  {
   "cell_type": "markdown",
   "metadata": {},
   "source": [
    "\n",
    "We now have all we need to run the extended Kalman filter. \n",
    "      \n"
   ]
  },
  {
   "cell_type": "code",
   "execution_count": 7,
   "metadata": {},
   "outputs": [],
   "source": [
    "import sys \n",
    "sys.path.append(f'..\\..\\..')\n",
    "import c4dynamics as c4d\n",
    "import numpy as np \n",
    "from scipy.integrate import odeint"
   ]
  },
  {
   "cell_type": "markdown",
   "metadata": {},
   "source": [
    "\n",
    "Quick setup for an ideal case: \n"
   ]
  },
  {
   "cell_type": "code",
   "execution_count": 4,
   "metadata": {},
   "outputs": [],
   "source": [
    "dt, tf = .01, 30\n",
    "tspan = np.arange(dt, tf, dt) \n",
    "dtsensor = 0.05  \n",
    "rho0, k = 0.0034, 22000 \n",
    "tgt = c4d.state(z = 100000, vz = -6000, beta = 500)\n",
    "altmtr = c4d.sensors.radar(isideal = True, dt = dt)"
   ]
  },
  {
   "cell_type": "markdown",
   "metadata": {},
   "source": [
    "\n",
    "Target equations of motion:\n"
   ]
  },
  {
   "cell_type": "code",
   "execution_count": 5,
   "metadata": {},
   "outputs": [],
   "source": [
    "def ballistics(y, t):  \n",
    "  return [y[1], rho0 * np.exp(-y[0] / k) * y[1]**2 * c4d.g_fts2 / 2 / y[2] - c4d.g_fts2, 0]"
   ]
  },
  {
   "cell_type": "markdown",
   "metadata": {},
   "source": [
    "Main loop: \n",
    "\n"
   ]
  },
  {
   "cell_type": "code",
   "execution_count": 8,
   "metadata": {},
   "outputs": [],
   "source": [
    "for t in tspan:\n",
    "  tgt.store(t)\n",
    "  tgt.X = odeint(ballistics, tgt.X, [t, t + dt])[-1]\n",
    "  _, _, z = altmtr.measure(tgt, t = t, store = True)"
   ]
  },
  {
   "cell_type": "markdown",
   "metadata": {},
   "source": [
    "Let's write a plotting function that serves us to draw the results at each run of the filter.\n",
    "\n",
    "The parameters of the function `drawekf` enable to control the elements of the components to draw: \n",
    "- `ekf`: estimated object\n",
    "- `trueobj`: ground truth reference to the estimation \n",
    "- `measure`: the raw samples of the sensor \n",
    "- `std`: the square root of the covariance matrix `P`, representing one standard deviation of the estimation error\n"
   ]
  },
  {
   "cell_type": "code",
   "execution_count": 15,
   "metadata": {},
   "outputs": [],
   "source": [
    "from matplotlib import pyplot as plt  \n",
    "plt.style.use('dark_background')  \n",
    "\n",
    "def drawekf(ekf = None, trueobj = None, measures = None, std = False, title = '', filename = None): \n",
    "\n",
    "  textsize = 10\n",
    "  \n",
    "\n",
    "  fig, ax = plt.subplots(1, 3, dpi = 200, figsize = (9, 3) \n",
    "                , gridspec_kw = {'left': .15, 'right': .95\n",
    "                                  , 'top': .80, 'bottom': .15\n",
    "                                    , 'hspace': 0.5, 'wspace': 0.4}) \n",
    "\n",
    "  fig.suptitle('                ' + title, fontsize = 14, fontname = 'Times New Roman')\n",
    "  plt.subplots_adjust(top = 0.95) \n",
    "\n",
    "\n",
    "  ''' altitude '''\n",
    "\n",
    "  if trueobj: \n",
    "    ax[0].plot(*trueobj.data('z'), 'm', linewidth = 1.2, label = 'true') \n",
    "  \n",
    "  if measures: \n",
    "    ax[0].plot(*measures.data('range'), '.c', markersize = 1, label = 'altmeter')\n",
    "\n",
    "  if ekf:\n",
    "    ax[0].plot(*ekf.data('z'), linewidth = 1, color = 'y', label = 'ekf')\n",
    "\n",
    "  if std: \n",
    "    x = ekf.data('z')[1]\n",
    "    t_sig, x_sig = ekf.data('P00')\n",
    "    # ±std \n",
    "    ax[0].plot(t_sig, x + np.sqrt(x_sig.squeeze()), linewidth = 1, color = 'w', label = 'std') # np.array(v.color) / 255)\n",
    "    ax[0].plot(t_sig, x - np.sqrt(x_sig.squeeze()), linewidth = 1, color = 'w') # np.array(v.color) / 255)\n",
    " \n",
    "\n",
    "\n",
    "  c4d.plotdefaults(ax[0], 'Altitude', 'Time [s]', 'ft', textsize)\n",
    "  ax[0].legend(fontsize = 'xx-small', facecolor = None, framealpha = .5)  \n",
    "  \n",
    "\n",
    "  ''' velocity '''\n",
    "\n",
    "  if trueobj: \n",
    "    ax[1].plot(*trueobj.data('vz'), 'm', linewidth = 1.2, label = 'true') \n",
    "\n",
    "  if ekf:\n",
    "    ax[1].plot(*ekf.data('vz'), linewidth = 1, color = 'y', label = 'ekf')\n",
    "\n",
    "  if std: \n",
    "    x = ekf.data('vz')[1]\n",
    "    t_sig, x_sig = ekf.data('P11') \n",
    "    # ±std \n",
    "    ax[1].plot(t_sig, (x + np.sqrt(x_sig.squeeze())), linewidth = 1, color = 'w', label = 'std') # np.array(v.color) / 255)\n",
    "    ax[1].plot(t_sig, (x - np.sqrt(x_sig.squeeze())), linewidth = 1, color = 'w') # np.array(v.color) / 255)\n",
    "\n",
    "  c4d.plotdefaults(ax[1], 'Velocity', 'Time [s]', 'ft/s', textsize)\n",
    "\n",
    "\n",
    "\n",
    "\n",
    "  ''' ballistic coefficient '''\n",
    "\n",
    "  if trueobj: \n",
    "    ax[2].plot(*trueobj.data('beta'), 'm', linewidth = 1.2, label = 'true') # label = r'$\\gamma$') #'\\\\gamma') # \n",
    "\n",
    "  if ekf:\n",
    "    ax[2].plot(*ekf.data('beta'), linewidth = 1, color = 'y', label = 'ekf')\n",
    "\n",
    "  if std: \n",
    "    x = ekf.data('beta')[1]\n",
    "    t_sig, x_sig = ekf.data('P22')\n",
    "    # ±std \n",
    "    ax[2].plot(t_sig, (x + np.sqrt(x_sig.squeeze())), linewidth = 1, color = 'w', label = 'std') # np.array(v.color) / 255)\n",
    "    ax[2].plot(t_sig, (x - np.sqrt(x_sig.squeeze())), linewidth = 1, color = 'w') # np.array(v.color) / 255)\n",
    "\n",
    "\n",
    "  c4d.plotdefaults(ax[2], 'Beta', 'Time [s]', 'lb/ft^2', textsize)\n"
   ]
  },
  {
   "cell_type": "code",
   "execution_count": 16,
   "metadata": {},
   "outputs": [
    {
     "data": {
      "image/png": "[encoded data removed]",
      "text/plain": [
       "<Figure size 1800x600 with 3 Axes>"
      ]
     },
     "metadata": {},
     "output_type": "display_data"
    }
   ],
   "source": [
    "drawekf(trueobj = tgt, measures = altmtr, title = 'Ideal', filename = 'bal_ideal')"
   ]
  },
  {
   "cell_type": "markdown",
   "metadata": {},
   "source": [
    "\n",
    "\n",
    "These figures show the time histories of the altitude, velocity, \n",
    "and ballistic coefficient, for a target in a free fall with ideal conditions. \n",
    "\n",
    "Let's examine the `ekf` capability to estimate $\\beta$ at the presence of errors.  \n",
    "Errors in initial conditions introduced into each one of the variables: \n",
    "$z_{0_{err}} = 25, v_{z_{0_{err}}} = -150, \\\\beta_{0_{err}} = 300$.  \n",
    "The uncertainty in the ballistic coefficient is given in terms of \n",
    "the spectral density of a continuous system, such that for flight time $t_f$, \n",
    "the standard deviation of the ballistic coefficient noise \n",
    "is $\\omega_{\\beta} = \\sqrt{\\beta_{err} \\cdot t_f}$. \n",
    "The measurement noise is $\\nu = \\sqrt{500}$. These use \n",
    "for the noise covariance matrices `Q, R` as for \n",
    "the initialization of the state covariance matrix `P`:   \n",
    "\n"
   ]
  },
  {
   "cell_type": "code",
   "execution_count": 17,
   "metadata": {},
   "outputs": [
    {
     "ename": "TypeError",
     "evalue": "ekf.__init__() got an unexpected keyword argument 'dt'",
     "output_type": "error",
     "traceback": [
      "\u001b[1;31m---------------------------------------------------------------------------\u001b[0m",
      "\u001b[1;31mTypeError\u001b[0m                                 Traceback (most recent call last)",
      "Cell \u001b[1;32mIn[17], line 8\u001b[0m\n\u001b[0;32m      6\u001b[0m \u001b[38;5;66;03m# altmeter and ekf construction: \u001b[39;00m\n\u001b[0;32m      7\u001b[0m altmtr \u001b[38;5;241m=\u001b[39m c4d\u001b[38;5;241m.\u001b[39msensors\u001b[38;5;241m.\u001b[39mradar(rng_noise_std \u001b[38;5;241m=\u001b[39m nu, dt \u001b[38;5;241m=\u001b[39m dtsensor) \n\u001b[1;32m----> 8\u001b[0m ekf \u001b[38;5;241m=\u001b[39m \u001b[43mc4d\u001b[49m\u001b[38;5;241;43m.\u001b[39;49m\u001b[43mfilters\u001b[49m\u001b[38;5;241;43m.\u001b[39;49m\u001b[43mekf\u001b[49m\u001b[43m(\u001b[49m\u001b[43mX\u001b[49m\u001b[43m \u001b[49m\u001b[38;5;241;43m=\u001b[39;49m\u001b[43m \u001b[49m\u001b[43m{\u001b[49m\u001b[38;5;124;43m'\u001b[39;49m\u001b[38;5;124;43mz\u001b[39;49m\u001b[38;5;124;43m'\u001b[39;49m\u001b[43m:\u001b[49m\u001b[43m \u001b[49m\u001b[43mtgt\u001b[49m\u001b[38;5;241;43m.\u001b[39;49m\u001b[43mz\u001b[49m\u001b[43m \u001b[49m\u001b[38;5;241;43m+\u001b[39;49m\u001b[43m \u001b[49m\u001b[43mzerr\u001b[49m\u001b[43m,\u001b[49m\u001b[43m \u001b[49m\u001b[38;5;124;43m'\u001b[39;49m\u001b[38;5;124;43mvz\u001b[39;49m\u001b[38;5;124;43m'\u001b[39;49m\u001b[43m:\u001b[49m\u001b[43m \u001b[49m\u001b[43mtgt\u001b[49m\u001b[38;5;241;43m.\u001b[39;49m\u001b[43mvz\u001b[49m\u001b[43m \u001b[49m\u001b[38;5;241;43m+\u001b[39;49m\u001b[43m \u001b[49m\u001b[43mvzerr\u001b[49m\u001b[43m,\u001b[49m\u001b[43m \u001b[49m\u001b[38;5;124;43m'\u001b[39;49m\u001b[38;5;124;43mbeta\u001b[39;49m\u001b[38;5;124;43m'\u001b[39;49m\u001b[43m:\u001b[49m\u001b[43m \u001b[49m\u001b[43mtgt\u001b[49m\u001b[38;5;241;43m.\u001b[39;49m\u001b[43mbeta\u001b[49m\u001b[43m \u001b[49m\u001b[38;5;241;43m+\u001b[39;49m\u001b[43m \u001b[49m\u001b[43mbetaerr\u001b[49m\u001b[43m}\u001b[49m\u001b[43m,\u001b[49m\u001b[43m \u001b[49m\u001b[43mP0\u001b[49m\u001b[43m \u001b[49m\u001b[38;5;241;43m=\u001b[39;49m\u001b[43m \u001b[49m\u001b[43mp0\u001b[49m\u001b[43m,\u001b[49m\u001b[43m \u001b[49m\u001b[43mdt\u001b[49m\u001b[43m \u001b[49m\u001b[38;5;241;43m=\u001b[39;49m\u001b[43m \u001b[49m\u001b[43mdt\u001b[49m\u001b[43m)\u001b[49m \n",
      "\u001b[1;31mTypeError\u001b[0m: ekf.__init__() got an unexpected keyword argument 'dt'"
     ]
    }
   ],
   "source": [
    "zerr, vzerr, betaerr = 25, -150, 1000 \n",
    "nu = np.sqrt(500) \n",
    "p0 = np.diag([nu**2, vzerr**2, betaerr**2])\n",
    "R = nu**2 / dt\n",
    "Q = np.diag([0, 0, betaerr**2 / tf * dt])  \n",
    "# altmeter and ekf construction: \n",
    "altmtr = c4d.sensors.radar(rng_noise_std = nu, dt = dtsensor) \n",
    "ekf = c4d.filters.ekf(X = {'z': tgt.z + zerr, 'vz': tgt.vz + vzerr, 'beta': tgt.beta + betaerr}, P0 = p0, dt = dt) "
   ]
  },
  {
   "cell_type": "markdown",
   "metadata": {},
   "source": [
    "\n",
    "\n",
    "The main loop includes the simulation of the target motion, the linearization \n",
    "and discretization of the process equations, and calling the `predict` method. \n",
    "Then linearization and discretization of the measurement equations (not relevant \n",
    "here as the measurement is already linear), and calling the `update` method. \n"
   ]
  },
  {
   "cell_type": "code",
   "execution_count": null,
   "metadata": {},
   "outputs": [],
   "source": [
    "for t in tspan:\n",
    "  # target motion simulation  \n",
    "  tgt.X = odeint(ballistics, tgt.X, [t, t + dt])[-1]\n",
    "  # process linearization \n",
    "  rhoexp = rho0 * np.exp(-ekf.z / k) * c4d.g_fts2 * ekf.vz / ekf.beta\n",
    "  fx = [ekf.vz, rhoexp * ekf.vz / 2 - c4d.g_fts2, 0]\n",
    "  f2i = rhoexp * np.array([-ekf.vz / 2 / k, 1, -ekf.vz / 2 / ekf.beta])\n",
    "  # discretization \n",
    "  F = np.array([[0, 1, 0], f2i, [0, 0, 0]]) * dt + np.eye(3)\n",
    "  # ekf predict \n",
    "  ekf.predict(F, Q, fx = fx)\n",
    "  # take a measure \n",
    "  _, _, Z = altmtr.measure(tgt, t = t, store = True)\n",
    "  if Z is not None:  \n",
    "    H = [1, 0, 0]\n",
    "    # ekf update \n",
    "    ekf.update(Z, H, R)\n",
    "  # store states\n",
    "  tgt.store(t)\n",
    "  ekf.store(t)"
   ]
  },
  {
   "cell_type": "markdown",
   "metadata": {},
   "source": [
    "\n",
    "Though the `update` requires also the linear \n",
    "process matrix (:math:`F`), the `predict` method \n",
    "stores the introduced `F` to prove that \n",
    "the `update` step always comes after calling the `predict`. \n",
    "\n"
   ]
  },
  {
   "cell_type": "markdown",
   "metadata": {},
   "source": [
    "\n",
    "![alt text](/_examples/filters/bal_filtered.png)\n"
   ]
  },
  {
   "cell_type": "markdown",
   "metadata": {},
   "source": [
    "\n",
    "\n"
   ]
  },
  {
   "cell_type": "code",
   "execution_count": null,
   "metadata": {},
   "outputs": [],
   "source": [
    "# type: ignore\n",
    "\n",
    "import numpy as np \n",
    "from scipy.integrate import odeint \n",
    "\n",
    "from matplotlib import pyplot as plt \n",
    "plt.style.use('dark_background')  \n",
    "# plt.switch_backend('TkAgg')\n",
    "\n",
    "import os, sys\n",
    "sys.path.append(r'../../../')\n",
    "print(os.getcwd())\n",
    "import c4dynamics as c4d \n",
    "\n",
    "\n",
    "savedir = os.path.join(c4d.c4dir(os.getcwd()), 'docs', 'source', '_examples', 'filters') \n",
    "\n",
    "\n",
    "dt, tf =  0.01, 30 # .05, 30 #\n",
    "tspan = np.arange(0, tf + dt, dt)  \n",
    "dtsensor = .05 # 0.1 # \n",
    "\n",
    "\n",
    "\n",
    "\n",
    "\n",
    "rho0 = .0034 \n",
    "k = 22000 \n",
    "nu = np.sqrt(500) \n",
    "zerr, vzerr, betaerr = 25, -150, 300 "
   ]
  },
  {
   "cell_type": "markdown",
   "metadata": {},
   "source": []
  },
  {
   "cell_type": "code",
   "execution_count": null,
   "metadata": {},
   "outputs": [],
   "source": []
  },
  {
   "cell_type": "markdown",
   "metadata": {},
   "source": [
    "The equations of motion are governed by the ballistics() function"
   ]
  },
  {
   "cell_type": "code",
   "execution_count": null,
   "metadata": {},
   "outputs": [],
   "source": [
    "def ballistics(y, t):\n",
    "\n",
    "  # altitude \n",
    "  # velocity \n",
    "  # ballistic coefficient \n",
    "  return [y[1], rho0 * np.exp(-y[0] / k) * y[1]**2 * c4d.g_fts2 / 2 / y[2] - c4d.g_fts2, 0]"
   ]
  },
  {
   "cell_type": "code",
   "execution_count": null,
   "metadata": {},
   "outputs": [],
   "source": [
    "def ideal():\n",
    "  ''' ideal '''\n",
    "  tgt = c4d.state(z = 100000, vz = -6000, beta = 500)\n",
    "  altmtr = c4d.sensors.radar(isideal = True, dt = dtsensor)\n",
    "\n",
    "  for t in tspan:\n",
    "    tgt.store(t)\n",
    "    \n",
    "    tgt.X = odeint(ballistics, tgt.X, [t, t + dt])[-1]\n",
    "    altmtr.measure(tgt, t = t, store = True)\n",
    "    \n",
    "  return tgt, altmtr\n"
   ]
  },
  {
   "cell_type": "code",
   "execution_count": null,
   "metadata": {},
   "outputs": [],
   "source": [
    "def noisy():\n",
    "  ''' noisy no kalman ''' \n",
    "  tgt = c4d.state(z = 100000, vz = -6000, beta = 500)\n",
    "  altmtr = c4d.sensors.radar(rng_noise_std = nu, dt = dtsensor)\n",
    "\n",
    "  for t in tspan:\n",
    "    tgt.store(t)\n",
    "\n",
    "    tgt.X = odeint(ballistics, tgt.X, [t, t + dt])[-1]\n",
    "    altmtr.measure(tgt, t = t, store = True)\n",
    "\n",
    "  return tgt, altmtr"
   ]
  },
  {
   "cell_type": "code",
   "execution_count": null,
   "metadata": {},
   "outputs": [],
   "source": [
    "def filtered():\n",
    "  ''' filtered ''' \n",
    "  tgt = c4d.state(z = 100000, vz = -6000, beta = 500)\n",
    "\n",
    "\n",
    "  p0 = np.diag([nu**2, vzerr**2, betaerr**2]) # when a list is given the std are provided. when matrix the variances. \n",
    "  R = nu**2 / dt\n",
    "\n",
    "\n",
    "  ''' sensor init '''\n",
    "  altmtr = c4d.sensors.radar(rng_noise_std = nu, dt = dtsensor) \n",
    "  Q = np.diag([0, 0, betaerr**2 / tf * dt])  \n",
    "\n",
    "  np.random.seed(1337)\n",
    "\n",
    "  H = [1, 0, 0]\n",
    "  ekf = c4d.filters.ekf(X = {'z': tgt.z + zerr, 'vz': tgt.vz + vzerr\n",
    "                                  , 'beta': tgt.beta + betaerr}\n",
    "                          , P0 = p0, H = H, Q = Q, R = R) \n",
    "\n",
    "  for t in tspan:\n",
    "\n",
    "    ''' store the state '''\n",
    "    tgt.store(t)\n",
    "    ekf.store(t)\n",
    "\n",
    "    tgt.X = odeint(ballistics, tgt.X, [t, t + dt])[-1]\n",
    "\n",
    "\n",
    "    ''' \n",
    "    the necessary linear parameters for the predict stage: the \n",
    "    state transition matrix Phi (or its first order approximation F - the discreteized system matrix) \n",
    "    '''\n",
    "    rhoexp  =   rho0 * np.exp(-ekf.z / k) * c4d.g_fts2 * ekf.vz / ekf.beta\n",
    "    fx      =   [ekf.vz, rhoexp * ekf.vz / 2 - c4d.g_fts2, 0]\n",
    "    f2i     =   rhoexp * np.array([-ekf.vz / 2 / k, 1, -ekf.vz / 2 / ekf.beta])\n",
    "    F       =   np.array([[0, 1, 0], f2i, [0, 0, 0]]) * dt + np.eye(3)\n",
    "    ekf.predict(F = F, fx = fx, dt = dt)\n",
    "\n",
    "\n",
    "    ''' the necessary linear parameters for the predict stage: the measure matrix H '''\n",
    "    _, _, Z = altmtr.measure(tgt, t = t, store = True)\n",
    "    \n",
    "    if Z is not None:  \n",
    "      ekf.update(Z)\n",
    "\n",
    "  return tgt, altmtr, ekf "
   ]
  },
  {
   "cell_type": "code",
   "execution_count": null,
   "metadata": {},
   "outputs": [],
   "source": [
    "tgt1, altmtr = ideal()\n",
    "# drawekf(trueobj = tgt1, measures = altmtr, title = 'Ideal', filename = 'bal_ideal')\n",
    "\n",
    "tgt2, altmtr = noisy()\n",
    "# drawekf(trueobj = tgt2, measures = altmtr, title = 'Noisy')\n",
    "\n",
    "\n",
    "tgt, altmtr, ekf = filtered()\n",
    "drawekf(trueobj = tgt2, measures = altmtr, ekf =  ekf, title = 'Filtered', filename = 'bal_filtered')\n",
    "\n"
   ]
  },
  {
   "cell_type": "markdown",
   "metadata": {},
   "source": [
    "\n",
    "\n",
    "A few steps to consider when designing a Kalman filter: \n",
    "\n",
    "- Spend some time understanding the dynamics. It's the basis of great filtering. \n",
    "- If the system is nonlinear, identify the nonlinearity; is it in the process? in the measurement? both? \n",
    "- Always prioriorotize linear Kalman. If possible, find a nominal trajectory to linearize the system about.\n",
    "- The major time-consuming activity is researching the balance between the noise matrices `Q` and `R`.\n",
    "- -> Plan your time in advance.\n",
    "- Use a framework that provides you with the most flexibility and control.\n",
    "- Make fun! \n",
    "\n",
    "\n"
   ]
  }
 ],
 "metadata": {
  "kernelspec": {
   "display_name": "Python 3",
   "language": "python",
   "name": "python3"
  },
  "language_info": {
   "codemirror_mode": {
    "name": "ipython",
    "version": 3
   },
   "file_extension": ".py",
   "mimetype": "text/x-python",
   "name": "python",
   "nbconvert_exporter": "python",
   "pygments_lexer": "ipython3",
   "version": "3.10.1"
  }
 },
 "nbformat": 4,
 "nbformat_minor": 2
}
